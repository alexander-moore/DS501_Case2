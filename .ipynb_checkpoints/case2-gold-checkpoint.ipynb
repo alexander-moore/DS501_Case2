{
 "cells": [
  {
   "cell_type": "markdown",
   "metadata": {},
   "source": [
    "# Case Study 2 : Data Science in Financial Data"
   ]
  },
  {
   "cell_type": "markdown",
   "metadata": {},
   "source": [
    "**Recommended Readings:** \n",
    "* [Quantopian Tutorials](https://www.quantopian.com/tutorials/) \n",
    "* Please register an account in [Quantopian online notebook system](https://www.quantopian.com/notebooks/).\n",
    "* Upload this file into the system and start working on your idea.\n",
    "\n",
    "\n",
    "**NOTE**\n",
    "* Please download your code (notebook file as an ipynb file) and include it in your submission.\n"
   ]
  },
  {
   "cell_type": "markdown",
   "metadata": {},
   "source": [
    "# Problem: pick a data science problem that you plan to solve using Stock Price Data\n",
    "* The problem should be important and interesting, which has a potential impact in some area.\n",
    "* The problem should be solvable using the data available and data science solutions.\n",
    "\n",
    "Please briefly describe in the following cell: what problem are you trying to solve? why this problem is important and interesting?"
   ]
  },
  {
   "cell_type": "code",
   "execution_count": null,
   "metadata": {
    "collapsed": true
   },
   "outputs": [],
   "source": [
    "# We will solve the problem of not having more money, by writing an \n",
    "# algorithm which can optimize puchasing and selling gold stocks."
   ]
  },
  {
   "cell_type": "markdown",
   "metadata": {},
   "source": [
    "# Data Collection/Processing: "
   ]
  },
  {
   "cell_type": "code",
   "execution_count": 71,
   "metadata": {},
   "outputs": [
    {
     "name": "stdout",
     "output_type": "stream",
     "text": [
      "inputs:  Index(['Open Change', 'High Change', 'Low Change', 'Close Change',\n",
      "       'Adj Close Change', 'Volume Change'],\n",
      "      dtype='object')\n"
     ]
    }
   ],
   "source": [
    "# import relevant libraries\n",
    "import pandas as pd\n",
    "import numpy as np\n",
    "from sklearn.preprocessing import StandardScaler\n",
    "# load the daily stock price of GOLD\n",
    "gold_data = pd.read_csv(\"gold.csv\")\n",
    "# calculate continuous target feature\n",
    "gold_data['Price Change'] = gold_data['Close'].pct_change().shift(-1)\n",
    "# calculate discrete target features\n",
    "gold_data['Price Increased'] = (gold_data['Price Change'] > 0).astype(int)\n",
    "gold_data['Price Stayed'] = (gold_data['Price Change'] == 0).astype(int)\n",
    "gold_data['Price Decreased'] = (gold_data['Price Change'] < 0).astype(int)\n",
    "# calculate additional features\n",
    "gold_data['Open Change'] = gold_data['Open'].pct_change()\n",
    "gold_data['High Change'] = gold_data['High'].pct_change()\n",
    "gold_data['Low Change'] = gold_data['Low'].pct_change()\n",
    "gold_data['Close Change'] = gold_data['Close'].pct_change()\n",
    "gold_data['Adj Close Change'] = gold_data['Adj Close'].pct_change()\n",
    "gold_data['Volume Change'] = gold_data['Volume'].pct_change()\n",
    "# TODO: Adjust for inflation\n",
    "# Drop unnecesary rows and columns\n",
    "gold_data.drop(['Date','Open','High','Low','Close','Adj Close','Volume'],axis=1,inplace=True)\n",
    "gold_data.replace([np.inf,-np.inf],np.nan,inplace=True)\n",
    "gold_data.dropna(inplace=True)\n",
    "# extract neural network inputs\n",
    "nn_input = gold_data.drop(['Price Change','Price Increased','Price Stayed','Price Decreased'],axis=1).values\n",
    "nn_continuous_target = gold_data['Price Change'].values\n",
    "nn_discrete_target = gold_data[['Price Increased','Price Stayed','Price Decreased']].values\n",
    "# process into training, validation, and test sets\n",
    "sample_num = nn_input.shape[0]\n",
    "training_input = nn_input[:int(sample_num*0.5),:]\n",
    "validation_input = nn_input[int(sample_num*0.5):int(sample_num*0.75),:]\n",
    "testing_input = nn_input[int(sample_num*0.75):,:]\n",
    "training_continuous_target = nn_continuous_target[:int(sample_num*0.5)]\n",
    "validation_continuous_target = nn_continuous_target[int(sample_num*0.5):int(sample_num*0.75)]\n",
    "testing_continuous_target = nn_continuous_target[int(sample_num*0.75):]\n",
    "training_discrete_target = nn_discrete_target[:int(sample_num*0.5),:]\n",
    "validation_discrete_target = nn_discrete_target[int(sample_num*0.5):int(sample_num*0.75),:]\n",
    "testing_discrete_target = nn_discrete_target[int(sample_num*0.75):,:]\n",
    "# prepare for normalizing data\n",
    "input_scaler = StandardScaler()\n",
    "training_input = input_scaler.fit_transform(training_input).reshape(training_input.shape[0],1,training_input.shape[1])\n",
    "validation_input = input_scaler.transform(validation_input).reshape(validation_input.shape[0],1,validation_input.shape[1])\n",
    "testing_input = input_scaler.transform(testing_input).reshape(testing_input.shape[0],1,testing_input.shape[1])\n",
    "target_scaler = StandardScaler()\n",
    "training_continuous_target = target_scaler.fit_transform(training_continuous_target.reshape(-1, 1))\n",
    "validation_continuous_target = target_scaler.transform(validation_continuous_target.reshape(-1, 1))\n",
    "testing_continuous_target = target_scaler.transform(testing_continuous_target.reshape(-1, 1))"
   ]
  },
  {
   "cell_type": "markdown",
   "metadata": {},
   "source": [
    "# Data Exploration: Exploring the Dataset\n",
    "\n",
    "**plot the weekly returns of a set of stocks of your choice** \n"
   ]
  },
  {
   "cell_type": "code",
   "execution_count": 30,
   "metadata": {},
   "outputs": [],
   "source": []
  },
  {
   "cell_type": "markdown",
   "metadata": {},
   "source": [
    "# The Solution: implement a data science solution to the problem you are trying to solve."
   ]
  },
  {
   "cell_type": "markdown",
   "metadata": {},
   "source": [
    "Briefly describe the idea of your solution to the problem in the following cell:"
   ]
  },
  {
   "cell_type": "code",
   "execution_count": null,
   "metadata": {
    "collapsed": true
   },
   "outputs": [],
   "source": [
    "# Naive Approach: Build a feed-forward neural network using last n days as input\n",
    "# Convolutional Approach: Build a one-dimentional convolutional neural network using last n days as input\n",
    "# Recurrent Approach: Build a neural network of long short-term memory nodes using current day as input"
   ]
  },
  {
   "cell_type": "markdown",
   "metadata": {},
   "source": [
    "Write codes to implement the solution in python:"
   ]
  },
  {
   "cell_type": "code",
   "execution_count": 81,
   "metadata": {},
   "outputs": [
    {
     "ename": "SyntaxError",
     "evalue": "invalid syntax (<ipython-input-81-f89d005a6bf1>, line 15)",
     "output_type": "error",
     "traceback": [
      "\u001b[1;36m  File \u001b[1;32m\"<ipython-input-81-f89d005a6bf1>\"\u001b[1;36m, line \u001b[1;32m15\u001b[0m\n\u001b[1;33m    discrete_lstm_model = Sequential()\u001b[0m\n\u001b[1;37m                      ^\u001b[0m\n\u001b[1;31mSyntaxError\u001b[0m\u001b[1;31m:\u001b[0m invalid syntax\n"
     ]
    }
   ],
   "source": [
    "from keras.models import Sequential\n",
    "from keras.layers import Dense, LSTM\n",
    "from keras.callbacks import EarlyStopping\n",
    "\n",
    "feature_num = training_input.shape[2]\n",
    "callbacks = [EarlyStopping(monitor='val_loss',patience=5,restore_best_weights=False)]\n",
    "\n",
    "continuous_lstm_model = Sequential()\n",
    "continuous_lstm_model.add(LSTM(8,input_shape=(1,feature_num)))\n",
    "continuous_lstm_model.add(Dense(1,activation='linear'))\n",
    "continuous_lstm_model.compile(loss='mse',optimizer='adam',metrics=['accuracy'])\n",
    "continuous_lstm_model.fit(training_input,training_continuous_target,validation_data=(validation_input,validation_continuous_target),epochs=1000,callbacks=callbacks)\n",
    "print(continuous_lstm_model.evaluate(testing_input,testing_continuous_target))\n",
    "'''\n",
    "discrete_lstm_model = Sequential()\n",
    "discrete_lstm_model.add(LSTM(8,input_shape=(1,feature_num)))\n",
    "discrete_lstm_model.add(Dense(3,activation='softmax'))\n",
    "discrete_lstm_model.compile(loss='categorical_crossentropy',optimizer='adam',metrics=['accuracy'])\n",
    "discrete_lstm_model.fit(training_input,training_discrete_target,validation_data=(validation_input,validation_discrete_target),epochs=1000,callbacks=callbacks)\n",
    "discrete_lstm_model.evaluate(testing_input,testing_discrete_target)\n",
    "'''"
   ]
  },
  {
   "cell_type": "markdown",
   "metadata": {},
   "source": [
    "# Results: summarize and visualize the results discovered from the analysis\n",
    "\n",
    "Please use figures, tables, or videos to communicate the results with the audience.\n"
   ]
  },
  {
   "cell_type": "code",
   "execution_count": null,
   "metadata": {
    "collapsed": true
   },
   "outputs": [],
   "source": []
  },
  {
   "cell_type": "markdown",
   "metadata": {},
   "source": [
    "\n",
    "# Done\n",
    "\n",
    "All set! \n",
    "\n",
    "**What do you need to submit?**\n",
    "\n",
    "* **Notebook File**: Save this Jupyter notebook, and find the notebook file in your folder (for example, \"filename.ipynb\"). This is the file you need to submit. Please make sure all the plotted tables and figures are in the notebook. If you used \"jupyter notebook --pylab=inline\" to open the notebook, all the figures and tables should have shown up in the notebook.\n",
    "\n",
    "* **PPT Slides**: please prepare PPT slides to present about the case study . Each team present their case studies in class for 7 minutes.\n",
    "\n",
    "Please compress all the files in a zipped file.\n",
    "\n",
    "\n",
    "**How to submit:**\n",
    "\n",
    "        Please submit through Canvas, in the Assignment \"Case Study 2\".\n",
    "        \n",
    "**Note: Each team only needs to submit one submission in Canvas**"
   ]
  },
  {
   "cell_type": "code",
   "execution_count": null,
   "metadata": {},
   "outputs": [],
   "source": []
  }
 ],
 "metadata": {
  "kernelspec": {
   "display_name": "Python 3",
   "language": "python",
   "name": "python3"
  },
  "language_info": {
   "codemirror_mode": {
    "name": "ipython",
    "version": 3
   },
   "file_extension": ".py",
   "mimetype": "text/x-python",
   "name": "python",
   "nbconvert_exporter": "python",
   "pygments_lexer": "ipython3",
   "version": "3.7.4"
  }
 },
 "nbformat": 4,
 "nbformat_minor": 1
}
